{
 "cells": [
  {
   "cell_type": "code",
   "execution_count": 1,
   "metadata": {},
   "outputs": [],
   "source": [
    "import pymysql"
   ]
  },
  {
   "cell_type": "code",
   "execution_count": 2,
   "metadata": {},
   "outputs": [],
   "source": [
    "conexion = pymysql.connect(\n",
    "   host = 'localhost',\n",
    "   user = 'root',\n",
    "   passwd='',\n",
    "   db='henry'\n",
    ")"
   ]
  },
  {
   "cell_type": "code",
   "execution_count": 3,
   "metadata": {},
   "outputs": [],
   "source": [
    "cursor = conexion.cursor()"
   ]
  },
  {
   "cell_type": "code",
   "execution_count": 10,
   "metadata": {},
   "outputs": [
    {
     "name": "stdout",
     "output_type": "stream",
     "text": [
      "('Candice', 'Rojas', '274352477')\n",
      "('Beverly', 'Gardner', '313262855')\n",
      "('Carlos', 'Frank', '335199030')\n",
      "('Callum', 'Velazquez', '171722128')\n",
      "('Kelly', 'Strickland', '14374907K')\n"
     ]
    }
   ],
   "source": [
    "cursor.execute(\"SELECT nombre, apellido, cedulaIdentidad FROM alumno\")\n",
    "#alumnos = cursor.fetchall()\n",
    "alumnos = cursor.fetchmany(5)\n",
    "for alumno in alumnos:\n",
    "   print(alumno)"
   ]
  }
 ],
 "metadata": {
  "kernelspec": {
   "display_name": "Python 3.9.7 64-bit",
   "language": "python",
   "name": "python3"
  },
  "language_info": {
   "codemirror_mode": {
    "name": "ipython",
    "version": 3
   },
   "file_extension": ".py",
   "mimetype": "text/x-python",
   "name": "python",
   "nbconvert_exporter": "python",
   "pygments_lexer": "ipython3",
   "version": "3.9.7"
  },
  "orig_nbformat": 4,
  "vscode": {
   "interpreter": {
    "hash": "11938c6bc6919ae2720b4d5011047913343b08a43b18698fd82dedb0d4417594"
   }
  }
 },
 "nbformat": 4,
 "nbformat_minor": 2
}
